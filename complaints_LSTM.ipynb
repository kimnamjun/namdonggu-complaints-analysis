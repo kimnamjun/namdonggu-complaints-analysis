{
  "nbformat": 4,
  "nbformat_minor": 0,
  "metadata": {
    "colab": {
      "name": "complaints_LSTM.ipynb",
      "provenance": [],
      "collapsed_sections": []
    },
    "kernelspec": {
      "name": "python3",
      "display_name": "Python 3"
    }
  },
  "cells": [
    {
      "cell_type": "code",
      "metadata": {
        "id": "ElpTZQ-1VN2e",
        "colab": {
          "base_uri": "https://localhost:8080/"
        },
        "outputId": "fe15f8b0-cdc1-4b93-bf62-4a7b0e8c06b2"
      },
      "source": [
        "\"\"\"\r\n",
        "민원이 접수되면 이 민원이 어느 부서에서 처리하는 지 분류하는 것이\r\n",
        "실제 업무에서는 매우 중요한 일이다.\r\n",
        "그렇기 때문에 모든 민원에는 처리부서가 있어야 한다.\r\n",
        "\r\n",
        "대부분 민원의 경우 처리부서 label이 있지만\r\n",
        "몇몇 민원의 경우 처리부서가 공란으로 남겨져 있다.\r\n",
        "\r\n",
        "학습용과 검증용으로 label이 붙어있는 민원 중\r\n",
        "20% 정도의 처리부서를 지워 공란이 되었다고 가정하고\r\n",
        "모델 학습을 진행한다.\r\n",
        "\r\n",
        "그 후 공란으로 남겨진 데이터에 대하여 label을 붙인다.\r\n",
        "\"\"\"\r\n",
        "print('Hello, World!')"
      ],
      "execution_count": 1,
      "outputs": [
        {
          "output_type": "stream",
          "text": [
            "Hello, World!\n"
          ],
          "name": "stdout"
        }
      ]
    },
    {
      "cell_type": "code",
      "metadata": {
        "id": "9uBBstw8-5yt"
      },
      "source": [
        "import random\n",
        "from time import time\n",
        "from datetime import datetime\n",
        "\n",
        "import numpy as np\n",
        "import pandas as pd\n",
        "\n",
        "from sklearn.model_selection import train_test_split\n",
        "from sklearn.preprocessing import OneHotEncoder, LabelEncoder\n",
        "from sklearn.feature_extraction.text import TfidfVectorizer\n",
        "\n",
        "import tensorflow as tf\n",
        "\n",
        "import keras\n",
        "from keras.models import Sequential\n",
        "from keras.layers import Dense, LSTM"
      ],
      "execution_count": 2,
      "outputs": []
    },
    {
      "cell_type": "code",
      "metadata": {
        "id": "Zmh2rLSBtAue",
        "colab": {
          "base_uri": "https://localhost:8080/"
        },
        "outputId": "c3337b50-b7dd-4cb4-f0a1-a624293195ca"
      },
      "source": [
        "# 데이터 로드\n",
        "import pandas as pd\n",
        "from google.colab import auth, drive\n",
        "auth.authenticate_user()\n",
        "drive.mount('/content/gdrive')\n",
        "original_complaints = pd.read_csv('gdrive/My Drive/Colab Notebooks/complaints_data/complaints.csv', encoding='UTF-8')\n",
        "print(original_complaints)\n",
        "print(original_complaints.columns)"
      ],
      "execution_count": 3,
      "outputs": [
        {
          "output_type": "stream",
          "text": [
            "Mounted at /content/gdrive\n",
            "                민원접수번호*  ...                                              _명사추출\n",
            "0      1AA-2007-0000036  ...                                               리플렉터\n",
            "1      1AA-2007-0001346  ...                     소화전 불법 주정 차 신고 동일 위치 촬영 과태료 부과\n",
            "2      1AA-2007-0001565  ...  소화전 불법 주정 차 신고 안전 신문고 소방 시설 주정 차 신고 시 적색 주정 차 ...\n",
            "3      1AA-2007-0001575  ...                        소화전 불법 주정 차 신고 해당 차량 과태료 부과\n",
            "4      1AA-2007-0001694  ...                         생활 불편 신고 신고 시 과태료 부과 가능 시간\n",
            "...                 ...  ...                                                ...\n",
            "21177  1BA-2008-0688825  ...                                   가로수 뿌리 개인 하수관 파손\n",
            "21178  1BA-2008-1002135  ...                               자동차 수리비 견적 정확 수리 수리비\n",
            "21179  1BA-2008-1067019  ...                             어린이집 위생 안전 관리 지도 점검 요청\n",
            "21180  1BA-2009-0053881  ...                                내 아파트 미 착용 공사 소음 불편\n",
            "21181  1BA-2009-0734245  ...                                        민원 서류 보완 요청\n",
            "\n",
            "[21182 rows x 9 columns]\n",
            "Index(['민원접수번호*', '민원제목*', '민원내용*', '처리부서*', '_민원제목', '_민원내용', '_민원요지',\n",
            "       '_민원경로', '_명사추출'],\n",
            "      dtype='object')\n"
          ],
          "name": "stdout"
        }
      ]
    },
    {
      "cell_type": "code",
      "metadata": {
        "colab": {
          "base_uri": "https://localhost:8080/"
        },
        "id": "cS1Dz84B9len",
        "outputId": "68ed555c-93c8-45ae-b31a-c97e13adf06c"
      },
      "source": [
        "# x, y 및 train, test 나누기\r\n",
        "\r\n",
        "words = original_complaints['_명사추출'].fillna('')  # 기준이 될 x값\r\n",
        "tfidf_vectorizer = TfidfVectorizer()\r\n",
        "x = tfidf_vectorizer.fit_transform(words).toarray()\r\n",
        "x = x.reshape((x.shape[0], x.shape[1], 1))\r\n",
        "\r\n",
        "label = original_complaints['처리부서*']  # 기준이 될 y값\r\n",
        "one_hot_encoder = OneHotEncoder()\r\n",
        "label_encoder = LabelEncoder()\r\n",
        "label = label.to_numpy().reshape(-1, 1)\r\n",
        "label_num = label_encoder.fit_transform(label).reshape(-1, 1)\r\n",
        "y = one_hot_encoder.fit_transform(label_num).toarray()\r\n",
        "\r\n",
        "print('X shape:', x.shape)\r\n",
        "print('Y shape:', y.shape)"
      ],
      "execution_count": 4,
      "outputs": [
        {
          "output_type": "stream",
          "text": [
            "X shape: (21182, 3450, 1)\n",
            "Y shape: (21182, 38)\n"
          ],
          "name": "stdout"
        },
        {
          "output_type": "stream",
          "text": [
            "/usr/local/lib/python3.6/dist-packages/sklearn/preprocessing/_label.py:251: DataConversionWarning: A column-vector y was passed when a 1d array was expected. Please change the shape of y to (n_samples, ), for example using ravel().\n",
            "  y = column_or_1d(y, warn=True)\n"
          ],
          "name": "stderr"
        }
      ]
    },
    {
      "cell_type": "code",
      "metadata": {
        "id": "JFrOjvwU3fNr",
        "colab": {
          "base_uri": "https://localhost:8080/"
        },
        "outputId": "b6a3890c-8a2a-4d9f-cee0-d1d2f344a75d"
      },
      "source": [
        "# row 나누기\n",
        "# colab 세션 다운으로 인해 데이터 나눔\n",
        "\n",
        "filled_id = [idx for idx, is_blank in enumerate(original_complaints['처리부서*']=='부서없음') if not is_blank]\n",
        "blank_id = [idx for idx, is_blank in enumerate(original_complaints['처리부서*']=='부서없음') if is_blank]\n",
        "\n",
        "complaints_filled = original_complaints.loc[filled_id,]\n",
        "complaints_blank = original_complaints.loc[blank_id,]\n",
        "\n",
        "sample_num = 100\n",
        "\n",
        "sample_id = random.sample(filled_id, sample_num)\n",
        "train_id = random.sample(sample_id, int(sample_num * 0.8))\n",
        "test_id = [i for i in sample_id if i not in train_id]\n",
        "\n",
        "complaints = complaints_filled.loc[sample_id,]\n",
        "\n",
        "x_train, y_train = x[train_id], y[train_id]\n",
        "x_test, y_test = x[test_id], y[test_id]\n",
        "x_blank, y_blank = x[blank_id], x[blank_id]\n",
        "\n",
        "print('filled :', complaints_filled.shape)\n",
        "print('blank :', complaints_blank.shape)\n",
        "print('sample :', complaints.shape)"
      ],
      "execution_count": 12,
      "outputs": [
        {
          "output_type": "stream",
          "text": [
            "filled : (20043, 9)\n",
            "blank : (1139, 9)\n",
            "sample : (100, 9)\n"
          ],
          "name": "stdout"
        }
      ]
    },
    {
      "cell_type": "code",
      "metadata": {
        "colab": {
          "base_uri": "https://localhost:8080/"
        },
        "id": "MhPP5wxrfWlC",
        "outputId": "7876cc49-e72d-47d7-eea4-3d6fedb3d7b9"
      },
      "source": [
        "# 모델 생성\r\n",
        "model = Sequential()\r\n",
        "model.add(LSTM(200, activation='relu', return_sequences=True, input_shape=(x.shape[1], 1)))\r\n",
        "model.add(LSTM(100, activation='relu', input_shape=(200, 1)))  # 리턴시퀀스는 마지막꺼는 빼고\r\n",
        "# DENSE와 사용법 동일하나 input_shape=(열, 몇개씩잘라작업)\r\n",
        "# model.add(Dense(5))\r\n",
        "model.add(Dense(y.shape[1], activation='softmax'))\r\n",
        "model.summary()"
      ],
      "execution_count": 8,
      "outputs": [
        {
          "output_type": "stream",
          "text": [
            "Model: \"sequential\"\n",
            "_________________________________________________________________\n",
            "Layer (type)                 Output Shape              Param #   \n",
            "=================================================================\n",
            "lstm (LSTM)                  (None, 3450, 200)         161600    \n",
            "_________________________________________________________________\n",
            "lstm_1 (LSTM)                (None, 100)               120400    \n",
            "_________________________________________________________________\n",
            "dense (Dense)                (None, 38)                3838      \n",
            "=================================================================\n",
            "Total params: 285,838\n",
            "Trainable params: 285,838\n",
            "Non-trainable params: 0\n",
            "_________________________________________________________________\n"
          ],
          "name": "stdout"
        }
      ]
    },
    {
      "cell_type": "code",
      "metadata": {
        "colab": {
          "base_uri": "https://localhost:8080/"
        },
        "id": "z6zCrava9yZQ",
        "outputId": "c0977158-8d4b-44fa-87e6-11731395823c"
      },
      "source": [
        "# 모델 실행\r\n",
        "start = datetime.now()\r\n",
        "print(f'시작시간: {start}')\r\n",
        "adam_opt = keras.optimizers.Adam(lr=0.001, decay=0.9)\r\n",
        "model.compile(optimizer=adam_opt, loss='mse')\r\n",
        "model.fit(x_train, y_train, epochs=3, batch_size=40)\r\n",
        "end = datetime.now()\r\n",
        "print(f'종료시간: {end}')\r\n",
        "print(f'소요시간: {end - start}')"
      ],
      "execution_count": 9,
      "outputs": [
        {
          "output_type": "stream",
          "text": [
            "시작시간: 2021-01-24 13:49:14.386725\n",
            "Epoch 1/3\n",
            "2/2 [==============================] - 27s 12s/step - loss: 0.0256\n",
            "Epoch 2/3\n",
            "2/2 [==============================] - 24s 12s/step - loss: 0.0256\n",
            "Epoch 3/3\n",
            "2/2 [==============================] - 24s 12s/step - loss: 0.0256\n",
            "종료시간: 2021-01-24 13:50:29.718552\n",
            "소요시간: 0:01:15.331827\n"
          ],
          "name": "stdout"
        }
      ]
    },
    {
      "cell_type": "code",
      "metadata": {
        "colab": {
          "base_uri": "https://localhost:8080/"
        },
        "id": "0i0ZY0BynNu0",
        "outputId": "4fdf2c20-7332-46a8-a69a-3307c2e3511a"
      },
      "source": [
        "# 결과 확인\r\n",
        "y_pred = model.predict(x_test)\r\n",
        "y_pred_argmax = np.argmax(y_pred, axis=1)\r\n",
        "# complaints.loc[test_id, '분류부서'] = label_encoder.inverse_transform(y_pred_argmax)\r\n",
        "for idx, t_id in enumerate(test_id):\r\n",
        "    complaints.loc[t_id, '분류부서'] = label_encoder.inverse_transform(y_pred_argmax)[idx]\r\n",
        "\r\n",
        "correct = 0\r\n",
        "miss = 0\r\n",
        "miss_dict = dict()\r\n",
        "for idx in complaints.loc[test_id,].index:\r\n",
        "    answer = complaints.loc[idx, '처리부서*']\r\n",
        "    predic = complaints.loc[idx, '분류부서']\r\n",
        "    if answer == predic:\r\n",
        "        correct += 1\r\n",
        "    else:\r\n",
        "        miss += 1\r\n",
        "        miss_dict[f'{answer} {predic}'] = miss_dict.get(f'{answer} {predic}', 0) + 1\r\n",
        "print('정분류 :', correct)\r\n",
        "print('오분류 :', miss)\r\n",
        "print()\r\n",
        "for m in miss_dict:\r\n",
        "    print(m, miss_dict[m])"
      ],
      "execution_count": 11,
      "outputs": [
        {
          "output_type": "stream",
          "text": [
            "정분류 : 13\n",
            "오분류 : 7\n",
            "민원봉사과 교통행정과 2\n",
            "환경보전과 교통행정과 1\n",
            "자동차관리과 교통행정과 1\n",
            "공동주택과 교통행정과 1\n",
            "노인장애인과 교통행정과 1\n",
            "도시경관과 교통행정과 1\n"
          ],
          "name": "stdout"
        }
      ]
    },
    {
      "cell_type": "code",
      "metadata": {
        "id": "HmePTKWUcXqa"
      },
      "source": [
        "y_pred = model.predict(x_blank)\r\n",
        "y_pred_argmax = np.argmax(y_pred, axis=1)\r\n",
        "for idx, t_id in enumerate(test_id):\r\n",
        "    original_complaints.loc[t_id, '분류부서'] = label_encoder.inverse_transform(y_pred_argmax)[idx]"
      ],
      "execution_count": 14,
      "outputs": []
    },
    {
      "cell_type": "code",
      "metadata": {
        "id": "tOL06y4M93Mq",
        "colab": {
          "base_uri": "https://localhost:8080/"
        },
        "outputId": "396736cc-e01c-4e69-81ee-77ba1ff74050"
      },
      "source": [
        "now = datetime.strftime(datetime.now(), '%m%d_%H%M')\r\n",
        "original_complaints.to_csv(f'gdrive/My Drive/Colab Notebooks/complaints_data/complaints_model_{now}.csv', index=False, encoding='UTF-8')\r\n",
        "print('저장완료!')"
      ],
      "execution_count": 15,
      "outputs": [
        {
          "output_type": "stream",
          "text": [
            "저장완료\n"
          ],
          "name": "stdout"
        }
      ]
    }
  ]
}